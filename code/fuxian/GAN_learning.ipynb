{
 "cells": [
  {
   "cell_type": "code",
   "execution_count": 1,
   "id": "7c85583d",
   "metadata": {},
   "outputs": [],
   "source": [
    "import torch \n",
    "from torch import nn\n",
    "import math\n",
    "import matplotlib.pyplot as plt"
   ]
  },
  {
   "cell_type": "code",
   "execution_count": 2,
   "id": "383b6d88",
   "metadata": {},
   "outputs": [
    {
     "data": {
      "text/plain": [
       "<torch._C.Generator at 0x17629f60ef0>"
      ]
     },
     "execution_count": 2,
     "metadata": {},
     "output_type": "execute_result"
    }
   ],
   "source": [
    "torch.manual_seed(111)"
   ]
  },
  {
   "cell_type": "code",
   "execution_count": 3,
   "id": "b2403b5b",
   "metadata": {},
   "outputs": [],
   "source": [
    "train_data_length = 1024\n",
    "train_data = torch.zeros((train_data_length, 2))\n",
    "train_data[:, 0] = 2 * math.pi * torch.rand(train_data_length)\n",
    "train_data[:, 1] = torch.sin(train_data[:, 0])\n",
    "train_labels = torch.zeros(train_data_length)\n",
    "train_set = [\n",
    "    (train_data[i], train_labels[i]) for i in range(train_data_length)\n",
    "]"
   ]
  },
  {
   "cell_type": "code",
   "execution_count": 4,
   "id": "bcd7599b",
   "metadata": {},
   "outputs": [
    {
     "data": {
      "text/plain": [
       "[<matplotlib.lines.Line2D at 0x17641833310>]"
      ]
     },
     "execution_count": 4,
     "metadata": {},
     "output_type": "execute_result"
    },
    {
     "data": {
      "image/png": "[encoded data removed]",
      "text/plain": [
       "<Figure size 640x480 with 1 Axes>"
      ]
     },
     "metadata": {},
     "output_type": "display_data"
    }
   ],
   "source": [
    "plt.plot(train_data[:, 0], train_data[:, 1], \".\")"
   ]
  },
  {
   "cell_type": "code",
   "execution_count": 5,
   "id": "1ca9f742",
   "metadata": {},
   "outputs": [],
   "source": [
    "batch_size = 32\n",
    "train_loader = torch.utils.data.DataLoader(\n",
    "    train_set, batch_size=batch_size, shuffle=True\n",
    ")"
   ]
  },
  {
   "cell_type": "code",
   "execution_count": 6,
   "id": "09e16db8",
   "metadata": {},
   "outputs": [],
   "source": [
    "class Discriminator(nn.Module):\n",
    "    def __init__(self):\n",
    "        super().__init__()\n",
    "        self.model = nn.Sequential(\n",
    "            nn.Linear(2, 256),\n",
    "            nn.ReLU(),\n",
    "            nn.Dropout(0.3),\n",
    "            nn.Linear(256, 128),\n",
    "            nn.ReLU(),\n",
    "            nn.Dropout(0.3),\n",
    "            nn.Linear(128, 64),\n",
    "            nn.ReLU(),\n",
    "            nn.Dropout(0.3),\n",
    "            nn.Linear(64, 1),\n",
    "            nn.Sigmoid(),\n",
    "        )\n",
    "\n",
    "    def forward(self, x):\n",
    "        output = self.model(x)\n",
    "        return output"
   ]
  },
  {
   "cell_type": "code",
   "execution_count": 7,
   "id": "0211e145",
   "metadata": {},
   "outputs": [],
   "source": [
    "discriminator = Discriminator()"
   ]
  },
  {
   "cell_type": "code",
   "execution_count": 8,
   "id": "7ea19339",
   "metadata": {},
   "outputs": [],
   "source": [
    "class Generator(nn.Module):\n",
    "    def __init__(self):\n",
    "        super().__init__()\n",
    "        self.model = nn.Sequential(\n",
    "            nn.Linear(2, 16),\n",
    "            nn.ReLU(),\n",
    "            nn.Linear(16, 32),\n",
    "            nn.ReLU(),\n",
    "            nn.Linear(32, 2),\n",
    "        )\n",
    "\n",
    "    def forward(self, x):\n",
    "        output = self.model(x)\n",
    "        return output\n",
    "\n",
    "generator = Generator()"
   ]
  },
  {
   "cell_type": "code",
   "execution_count": 9,
   "id": "155279fb",
   "metadata": {},
   "outputs": [],
   "source": [
    "lr = 0.001\n",
    "num_epochs = 300\n",
    "loss_function = nn.BCELoss()"
   ]
  },
  {
   "cell_type": "code",
   "execution_count": 10,
   "id": "53d66e56",
   "metadata": {},
   "outputs": [],
   "source": [
    "optimizer_discriminator = torch.optim.Adam(discriminator.parameters(), lr=lr)\n",
    "optimizer_generator = torch.optim.Adam(generator.parameters(), lr=lr)"
   ]
  },
  {
   "cell_type": "code",
   "execution_count": 11,
   "id": "12c5c61b",
   "metadata": {},
   "outputs": [
    {
     "name": "stdout",
     "output_type": "stream",
     "text": [
      "Epoch: 0 Loss D.: 0.19106775522232056\n",
      "Epoch: 0 Loss G.: 1.8886789083480835\n",
      "Epoch: 10 Loss D.: 0.6589438915252686\n",
      "Epoch: 10 Loss G.: 0.9345911741256714\n",
      "Epoch: 20 Loss D.: 0.6524474620819092\n",
      "Epoch: 20 Loss G.: 1.0460331439971924\n",
      "Epoch: 30 Loss D.: 0.6226591467857361\n",
      "Epoch: 30 Loss G.: 1.0609084367752075\n",
      "Epoch: 40 Loss D.: 0.6233396530151367\n",
      "Epoch: 40 Loss G.: 0.8515645861625671\n",
      "Epoch: 50 Loss D.: 0.6868194937705994\n",
      "Epoch: 50 Loss G.: 0.8243288397789001\n",
      "Epoch: 60 Loss D.: 0.6202172636985779\n",
      "Epoch: 60 Loss G.: 0.72624272108078\n",
      "Epoch: 70 Loss D.: 0.6947857141494751\n",
      "Epoch: 70 Loss G.: 0.7412822246551514\n",
      "Epoch: 80 Loss D.: 0.7288218140602112\n",
      "Epoch: 80 Loss G.: 0.6543270945549011\n",
      "Epoch: 90 Loss D.: 0.5993406772613525\n",
      "Epoch: 90 Loss G.: 0.731115996837616\n",
      "Epoch: 100 Loss D.: 0.6683372855186462\n",
      "Epoch: 100 Loss G.: 0.7073493599891663\n",
      "Epoch: 110 Loss D.: 0.6835013628005981\n",
      "Epoch: 110 Loss G.: 0.6716222167015076\n",
      "Epoch: 120 Loss D.: 0.6967481374740601\n",
      "Epoch: 120 Loss G.: 0.9325873255729675\n",
      "Epoch: 130 Loss D.: 0.6783876419067383\n",
      "Epoch: 130 Loss G.: 0.9109514355659485\n",
      "Epoch: 140 Loss D.: 0.627631425857544\n",
      "Epoch: 140 Loss G.: 1.0625540018081665\n",
      "Epoch: 150 Loss D.: 0.6804860830307007\n",
      "Epoch: 150 Loss G.: 0.7431325912475586\n",
      "Epoch: 160 Loss D.: 0.6987290382385254\n",
      "Epoch: 160 Loss G.: 0.7762017250061035\n",
      "Epoch: 170 Loss D.: 0.6204915046691895\n",
      "Epoch: 170 Loss G.: 0.8571159243583679\n",
      "Epoch: 180 Loss D.: 0.6577737927436829\n",
      "Epoch: 180 Loss G.: 0.8519721031188965\n",
      "Epoch: 190 Loss D.: 0.5849685072898865\n",
      "Epoch: 190 Loss G.: 0.8951380848884583\n",
      "Epoch: 200 Loss D.: 0.7064864039421082\n",
      "Epoch: 200 Loss G.: 0.7376769781112671\n",
      "Epoch: 210 Loss D.: 0.7389324307441711\n",
      "Epoch: 210 Loss G.: 0.7212587594985962\n",
      "Epoch: 220 Loss D.: 0.6846898794174194\n",
      "Epoch: 220 Loss G.: 0.8085004687309265\n",
      "Epoch: 230 Loss D.: 0.5713515281677246\n",
      "Epoch: 230 Loss G.: 0.8507578372955322\n",
      "Epoch: 240 Loss D.: 0.5652144551277161\n",
      "Epoch: 240 Loss G.: 1.4477243423461914\n",
      "Epoch: 250 Loss D.: 0.800829291343689\n",
      "Epoch: 250 Loss G.: 0.697504997253418\n",
      "Epoch: 260 Loss D.: 0.7356976270675659\n",
      "Epoch: 260 Loss G.: 0.6555644869804382\n",
      "Epoch: 270 Loss D.: 0.6454850435256958\n",
      "Epoch: 270 Loss G.: 0.7130197882652283\n",
      "Epoch: 280 Loss D.: 0.6441337466239929\n",
      "Epoch: 280 Loss G.: 0.8303640484809875\n",
      "Epoch: 290 Loss D.: 0.5845208764076233\n",
      "Epoch: 290 Loss G.: 0.9832497239112854\n"
     ]
    }
   ],
   "source": [
    "for epoch in range(num_epochs):\n",
    "    for n, (real_samples, _) in enumerate(train_loader):\n",
    "        # Data for training the discriminator\n",
    "        real_samples_labels = torch.ones((batch_size, 1))\n",
    "        latent_space_samples = torch.randn((batch_size, 2))\n",
    "        generated_samples = generator(latent_space_samples)\n",
    "        generated_samples_labels = torch.zeros((batch_size, 1))\n",
    "        all_samples = torch.cat((real_samples, generated_samples))\n",
    "        all_samples_labels = torch.cat(\n",
    "            (real_samples_labels, generated_samples_labels)\n",
    "        )\n",
    "\n",
    "        # Training the discriminator\n",
    "        discriminator.zero_grad()\n",
    "        output_discriminator = discriminator(all_samples)\n",
    "        loss_discriminator = loss_function(\n",
    "            output_discriminator, all_samples_labels)\n",
    "        loss_discriminator.backward()\n",
    "        optimizer_discriminator.step()\n",
    "\n",
    "        # Data for training the generator\n",
    "        latent_space_samples = torch.randn((batch_size, 2))\n",
    "\n",
    "        # Training the generator\n",
    "        generator.zero_grad()\n",
    "        generated_samples = generator(latent_space_samples)\n",
    "        output_discriminator_generated = discriminator(generated_samples)\n",
    "        loss_generator = loss_function(\n",
    "            output_discriminator_generated, real_samples_labels\n",
    "        )\n",
    "        loss_generator.backward()\n",
    "        optimizer_generator.step()\n",
    "\n",
    "        # Show loss\n",
    "        if epoch % 10 == 0 and n == batch_size - 1:\n",
    "            print(f\"Epoch: {epoch} Loss D.: {loss_discriminator}\")\n",
    "            print(f\"Epoch: {epoch} Loss G.: {loss_generator}\")"
   ]
  },
  {
   "cell_type": "code",
   "execution_count": 12,
   "id": "d7ee4737",
   "metadata": {},
   "outputs": [],
   "source": [
    "latent_space_samples = torch.randn(100, 2)\n",
    "generated_samples = generator(latent_space_samples)"
   ]
  },
  {
   "cell_type": "code",
   "execution_count": 13,
   "id": "f88a2128",
   "metadata": {},
   "outputs": [
    {
     "data": {
      "text/plain": [
       "[<matplotlib.lines.Line2D at 0x232d0161bd0>]"
      ]
     },
     "execution_count": 13,
     "metadata": {},
     "output_type": "execute_result"
    },
    {
     "data": {
      "image/png": "[encoded data removed]",
      "text/plain": [
       "<Figure size 640x480 with 1 Axes>"
      ]
     },
     "metadata": {},
     "output_type": "display_data"
    }
   ],
   "source": [
    "generated_samples = generated_samples.detach()\n",
    "plt.plot(generated_samples[:, 0], generated_samples[:, 1], \".\")"
   ]
  },
  {
   "cell_type": "code",
   "execution_count": null,
   "id": "5023ef94",
   "metadata": {},
   "outputs": [],
   "source": []
  }
 ],
 "metadata": {
  "kernelspec": {
   "display_name": "d2l",
   "language": "python",
   "name": "d2l"
  },
  "language_info": {
   "codemirror_mode": {
    "name": "ipython",
    "version": 3
   },
   "file_extension": ".py",
   "mimetype": "text/x-python",
   "name": "python",
   "nbconvert_exporter": "python",
   "pygments_lexer": "ipython3",
   "version": "3.8.17"
  }
 },
 "nbformat": 4,
 "nbformat_minor": 5
}
