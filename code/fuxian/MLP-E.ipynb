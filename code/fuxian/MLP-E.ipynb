{
 "cells": [
  {
   "cell_type": "code",
   "execution_count": 1,
   "id": "f25d0615-f90c-497b-9bba-4f470dc163db",
   "metadata": {},
   "outputs": [],
   "source": [
    "import os\n",
    "import pandas as pd\n",
    "import re\n",
    "from sklearn.model_selection import train_test_split\n",
    "import torch\n",
    "import torch.nn as nn\n",
    "import torch.optim as optim\n",
    "from torch.utils.data import Dataset, DataLoader\n",
    "from torch.cuda.amp import autocast, GradScaler\n",
    "import torch.nn.functional as F\n",
    "import numpy as np"
   ]
  },
  {
   "cell_type": "code",
   "execution_count": 2,
   "id": "3d4306ea-292a-418a-ac86-d18e029ea1ae",
   "metadata": {},
   "outputs": [],
   "source": [
    "\n",
    "def ReadTxtIntoDataset(folder_path):\n",
    "    folder_path = folder_path\n",
    "    # 获取文件夹中所有文件的列表\n",
    "    files = [f for f in os.listdir(folder_path) if os.path.isfile(os.path.join(folder_path, f))]\n",
    "    x_list = []\n",
    "    # 读取每个文件中的数据\n",
    "    data_list = []\n",
    "    for file_name in files:\n",
    "        # print(file_name)\n",
    "        file_path = os.path.join(folder_path, file_name)\n",
    "        # 读取文本文件\n",
    "        data = pd.read_csv(file_path,  delimiter=',', skipinitialspace=True, header=0)\n",
    "        # 清理列名中的空格\n",
    "        data.columns = data.columns.str.strip()\n",
    "        x_values = (data['MISES'][72616],data['MISES'][178908].astype(float),data['MISES'][128977].astype(float)) #提取指定的地方做传感器的输入\n",
    "        x_list.append(x_values)\n",
    "        # print(data.head())\n",
    "        # 提取第二列数据\n",
    "        second_column = data['MISES'].astype(float).values\n",
    "        # 打印提取的第二列数据\n",
    "        # print(\"Second column values:\", second_column)\n",
    "        data_list.append(second_column)\n",
    "    \n",
    "    data = torch.tensor(x_list).float()  \n",
    "    label =  torch.tensor(np.array(data_list)).float()\n",
    "\n",
    "    # 打印划分后的数据\n",
    "    return data,label\n",
    "\n",
    "def mean_squared_error(y_true, y_pred):\n",
    "    return torch.mean((y_true - y_pred)**2)"
   ]
  },
  {
   "cell_type": "code",
   "execution_count": 3,
   "id": "dd2448f9-59d4-452a-9533-dcd1be5b286a",
   "metadata": {},
   "outputs": [
    {
     "name": "stdout",
     "output_type": "stream",
     "text": [
      "当前工作目录： /root/autodl-tmp\n"
     ]
    }
   ],
   "source": [
    "\n",
    "current_directory = os.getcwd()\n",
    "print(\"当前工作目录：\", current_directory)\n",
    "\n"
   ]
  },
  {
   "cell_type": "code",
   "execution_count": 4,
   "id": "ecaf145b-e93c-4839-bfb7-8fe22701ff11",
   "metadata": {},
   "outputs": [],
   "source": [
    "folder_path = r\"/root/autodl-fs/ODB-E\"\n",
    "data,label = ReadTxtIntoDataset(folder_path)"
   ]
  },
  {
   "cell_type": "code",
   "execution_count": 5,
   "id": "80bd30b6-b32e-43bb-885e-a53c8365569f",
   "metadata": {},
   "outputs": [],
   "source": [
    "class My_dataset(Dataset):\n",
    "    def __init__(self,data,labels):\n",
    "        self.data = data\n",
    "        self.labels = labels\n",
    "           \n",
    "    def __getitem__(self, idx):\n",
    "        return self.data[idx],self.labels[idx]\n",
    "    \n",
    "    def __len__(self):\n",
    "        return len(self.data)"
   ]
  },
  {
   "cell_type": "code",
   "execution_count": 6,
   "id": "d0a50634-f5fe-4278-81f0-0ad78d9c82eb",
   "metadata": {},
   "outputs": [],
   "source": [
    "train_data, val_data, train_labels, val_labels = train_test_split(data, label, test_size=0.2, random_state=42)\n",
    "train_dataset = My_dataset(train_data, train_labels)\n",
    "val_dataset = My_dataset(val_data, val_labels)"
   ]
  },
  {
   "cell_type": "code",
   "execution_count": 8,
   "id": "34165251",
   "metadata": {},
   "outputs": [
    {
     "name": "stdout",
     "output_type": "stream",
     "text": [
      "tensor(1.)\n",
      "1.0\n"
     ]
    },
    {
     "ename": "",
     "evalue": "",
     "output_type": "error",
     "traceback": [
      "\u001b[1;31m在当前单元格或上一个单元格中执行代码时 Kernel 崩溃。\n",
      "\u001b[1;31m请查看单元格中的代码，以确定故障的可能原因。\n",
      "\u001b[1;31m单击<a href='https://aka.ms/vscodeJupyterKernelCrash'>此处</a>了解详细信息。\n",
      "\u001b[1;31m有关更多详细信息，请查看 Jupyter <a href='command:jupyter.viewOutput'>log</a>。"
     ]
    }
   ],
   "source": [
    "import torch\n",
    "import torch.nn as nn\n",
    "import numpy as np\n",
    "x1 = torch.tensor([1.0,2.0,3.0])\n",
    "x2 = torch.tensor([2.0,4.0,6.0])\n",
    "loss = torch.mean(torch.abs(x1 - x2) / x1, axis=0)\n",
    "# criterion = nn.MSELoss()  # 均方误差损失函数\n",
    "# loss = criterion(x1, x2)\n",
    "print(loss)\n",
    "print(np.average(np.abs(x1 - x2) / x1, axis=0))"
   ]
  },
  {
   "cell_type": "code",
   "execution_count": 7,
   "id": "6534b302-e26c-4f0b-aefc-b233a708466b",
   "metadata": {},
   "outputs": [],
   "source": [
    "class MLP(nn.Module):\n",
    "    def __init__(self,input_size,hidden_size,output_size):\n",
    "        super().__init__()\n",
    "        self.mlp = nn.Sequential(\n",
    "            nn.Linear(input_size,hidden_size),\n",
    "            nn.ReLU(),\n",
    "            nn.Linear(hidden_size,output_size),\n",
    "        )\n",
    "    def forward(self,x):\n",
    "        x = self.mlp(x)\n",
    "        return x"
   ]
  },
  {
   "cell_type": "code",
   "execution_count": 8,
   "id": "cc4f0a0f-99da-4956-8952-80dab93cafb8",
   "metadata": {},
   "outputs": [],
   "source": [
    "input = 3\n",
    "hidden = 2000\n",
    "out = 245293\n",
    "model = MLP(input, hidden, out)\n",
    "batch_size = 16\n",
    "learning_rate = 0.01\n",
    "num_epochs = 100"
   ]
  },
  {
   "cell_type": "code",
   "execution_count": 9,
   "id": "c290fbd3-2b6c-4b8b-9484-57e29be86c70",
   "metadata": {},
   "outputs": [
    {
     "name": "stdout",
     "output_type": "stream",
     "text": [
      "cuda\n"
     ]
    }
   ],
   "source": [
    "train_dataloader = DataLoader(train_dataset, batch_size=batch_size, shuffle=True)\n",
    "val_dataloader = DataLoader(val_dataset, batch_size=batch_size, shuffle=False)\n",
    "# 定义损失函数和优化器\n",
    "criterion = nn.MSELoss()  # 均方误差损失函数\n",
    "optimizer = optim.Adam(model.parameters(), lr=learning_rate)\n",
    "device = torch.device('cuda' if torch.cuda.is_available() else 'cpu')\n",
    "print(device)\n",
    "model = model.to(device)\n"
   ]
  },
  {
   "cell_type": "code",
   "execution_count": null,
   "id": "658e78e5-3d3f-459c-82fa-8e1a91c86ff2",
   "metadata": {},
   "outputs": [
    {
     "name": "stdout",
     "output_type": "stream",
     "text": [
      "Epoch [1/5], Step [10/127], Loss: 0.00000016\n",
      "Epoch [1/5], Step [20/127], Loss: 0.00000015\n",
      "Epoch [1/5], Step [30/127], Loss: 0.00000030\n",
      "Epoch [1/5], Step [40/127], Loss: 0.00000012\n",
      "Epoch [1/5], Step [50/127], Loss: 0.00000027\n",
      "Epoch [1/5], Step [60/127], Loss: 0.00000132\n",
      "Epoch [1/5], Step [70/127], Loss: 0.00002089\n",
      "Epoch [1/5], Step [80/127], Loss: 0.00032549\n",
      "Epoch [1/5], Step [90/127], Loss: 0.00010376\n"
     ]
    }
   ],
   "source": [
    "num_epochs = 5\n",
    "total_steps = len(train_dataloader)\n",
    "val_loss_optimize = 10\n",
    "for epoch in range(num_epochs):\n",
    "    model.train()\n",
    "    for i, (inputs, labels) in enumerate(train_dataloader):\n",
    "        # 前向传播\n",
    "        # print(labels)\n",
    "        inputs = inputs.to(device)\n",
    "        labels = labels.to(device)\n",
    "        outputs = model(inputs)\n",
    "        # print(outputs.size())\n",
    "        loss = criterion(outputs, labels)\n",
    "\n",
    "        # 反向传播和优化\n",
    "        optimizer.zero_grad()\n",
    "        loss.backward()\n",
    "        optimizer.step()\n",
    "        \n",
    "        torch.cuda.empty_cache()\n",
    "        # 打印训练信息\n",
    "        if (i + 1) % 10 == 0:\n",
    "            print(f'Epoch [{epoch + 1}/{num_epochs}], Step [{i + 1}/{total_steps}], Loss: {loss.item():.8f}')\n",
    "            \n",
    "    model.eval()\n",
    "    val_loss = 0.0\n",
    "    correct = 0\n",
    "    total = 0\n",
    "    with torch.no_grad():\n",
    "        for batch_data, batch_labels in val_dataloader:\n",
    "            # 前向传播\n",
    "            outputs = model(batch_data.to(device))\n",
    "            loss = criterion(outputs, batch_labels.to(device))\n",
    "            val_loss += loss.item()\n",
    "            detach_outputs = outputs.detach()\n",
    "            # 计算误差\n",
    "        \n",
    "    \n",
    "    average_val_loss = val_loss / len(val_dataloader)\n",
    "    \n",
    "    print(f\"Epoch {epoch+1}/{num_epochs}: Val Loss: {average_val_loss:.8f}\")\n",
    "    if average_val_loss < val_loss_optimize:\n",
    "        torch.save(model.state_dict(), 'MLP_E_model_weights.pth202434')\n",
    "        val_loss_optimize = average_val_loss"
   ]
  },
  {
   "cell_type": "code",
   "execution_count": null,
   "id": "d953ad77-0d0b-452c-b862-6336bc9c5674",
   "metadata": {},
   "outputs": [],
   "source": []
  }
 ],
 "metadata": {
  "kernelspec": {
   "display_name": "pytorch2",
   "language": "python",
   "name": "python3"
  },
  "language_info": {
   "codemirror_mode": {
    "name": "ipython",
    "version": 3
   },
   "file_extension": ".py",
   "mimetype": "text/x-python",
   "name": "python",
   "nbconvert_exporter": "python",
   "pygments_lexer": "ipython3",
   "version": "3.8.18"
  }
 },
 "nbformat": 4,
 "nbformat_minor": 5
}
